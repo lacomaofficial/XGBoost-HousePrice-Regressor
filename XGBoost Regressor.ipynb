{
 "cells": [
  {
   "cell_type": "markdown",
   "metadata": {},
   "source": [
    "# House Price Prediction with XGBoost\n",
    "\n",
    "This repository contains a machine learning model built with XGBoost to predict house prices using Melbourne housing data. The model is trained on various features such as 'Distance', 'Bedroom2', 'Postcode', 'Landsize', 'BuildingArea', 'YearBuilt', 'Lattitude', 'Longtitude', 'Bathroom', 'Car', and 'Propertycount'.\n"
   ]
  },
  {
   "cell_type": "code",
   "execution_count": 86,
   "metadata": {},
   "outputs": [],
   "source": [
    "import pandas as pd\n",
    "import numpy as np\n",
    "\n",
    "df = pd.read_csv('melb_data.csv')"
   ]
  },
  {
   "cell_type": "code",
   "execution_count": 87,
   "metadata": {},
   "outputs": [],
   "source": [
    "from sklearn.experimental import enable_iterative_imputer\n",
    "from sklearn.impute import IterativeImputer\n",
    "\n",
    "# Create a subset of columns with missing values\n",
    "subset_df = df[['Car', 'BuildingArea', 'YearBuilt']]\n",
    "\n",
    "# Enable iterative imputer\n",
    "imputer = IterativeImputer(max_iter=10, random_state=0)\n",
    "subset_imputed = imputer.fit_transform(subset_df)\n",
    "\n",
    "# Replace the original columns with the imputed values\n",
    "df[['Car', 'BuildingArea', 'YearBuilt']] = subset_imputed\n"
   ]
  },
  {
   "cell_type": "code",
   "execution_count": 88,
   "metadata": {},
   "outputs": [],
   "source": [
    "float_columns = df.select_dtypes(include='Float64').drop('Price', axis=1)\n",
    "\n",
    "X = float_columns.drop('Car', axis=1)\n",
    "y = df.Price"
   ]
  },
  {
   "cell_type": "code",
   "execution_count": 89,
   "metadata": {},
   "outputs": [
    {
     "name": "stdout",
     "output_type": "stream",
     "text": [
      "          Feature  Importance\n",
      "0        Distance    0.200701\n",
      "2        Bedroom2    0.187951\n",
      "1        Postcode    0.129464\n",
      "5        Landsize    0.124307\n",
      "6    BuildingArea    0.099779\n",
      "9      Longtitude    0.078574\n",
      "8       Lattitude    0.074752\n",
      "7       YearBuilt    0.040281\n",
      "3        Bathroom    0.031040\n",
      "10  Propertycount    0.023728\n",
      "4             Car    0.009422\n"
     ]
    }
   ],
   "source": [
    "from sklearn.ensemble import RandomForestRegressor\n",
    "\n",
    "# Create a random forest regressor model\n",
    "model = RandomForestRegressor()\n",
    "\n",
    "# Fit the model to your data\n",
    "model.fit(X, y)\n",
    "\n",
    "# Get the feature importance scores\n",
    "importances = model.feature_importances_\n",
    "\n",
    "# Create a dataframe to store the feature importances\n",
    "feature_importance = pd.DataFrame({'Feature': X.columns, 'Importance': importances})\n",
    "\n",
    "# Sort the features by importance in descending order\n",
    "feature_importance = feature_importance.sort_values('Importance', ascending=False)\n",
    "\n",
    "# Print the feature importances\n",
    "print(feature_importance)\n"
   ]
  },
  {
   "cell_type": "code",
   "execution_count": 90,
   "metadata": {},
   "outputs": [
    {
     "name": "stdout",
     "output_type": "stream",
     "text": [
      "Mean Squared Error: 75501204568.58104\n"
     ]
    }
   ],
   "source": [
    "from sklearn.model_selection import train_test_split\n",
    "from sklearn.metrics import mean_squared_error, accuracy_score\n",
    "from xgboost import XGBRegressor\n",
    "\n",
    "X = float_columns\n",
    "y = df.Price\n",
    "\n",
    "# Split the data into training and validation sets\n",
    "X_train, X_val, y_train, y_val = train_test_split(X, y, test_size=0.2, random_state=42)\n",
    "\n",
    "# Initialize and configure the XGBoost model for regression\n",
    "model = XGBRegressor('learning_rate'= 0.1, 'max_depth'= 5, 'n_estimators'= 300)\n",
    "model.fit(X_train, y_train)\n",
    "\n",
    "# Make predictions on the validation set\n",
    "y_pred = model.predict(X_val)\n",
    "\n",
    "# Evaluate the model using mean squared error (MSE)\n",
    "mse = mean_squared_error(y_val, y_pred)\n",
    "print(f\"Mean Squared Error: {mse}\")\n",
    "\n"
   ]
  },
  {
   "cell_type": "code",
   "execution_count": 91,
   "metadata": {},
   "outputs": [
    {
     "name": "stdout",
     "output_type": "stream",
     "text": [
      "0.8099230331501153\n"
     ]
    }
   ],
   "source": [
    "from sklearn.metrics import r2_score\n",
    "\n",
    "r2 = r2_score(y_val, y_pred)\n",
    "\n",
    "print(r2)\n"
   ]
  },
  {
   "cell_type": "code",
   "execution_count": 92,
   "metadata": {},
   "outputs": [
    {
     "name": "stdout",
     "output_type": "stream",
     "text": [
      "          Feature  Importance\n",
      "2        Bedroom2    0.260446\n",
      "1        Postcode    0.170475\n",
      "3        Bathroom    0.166126\n",
      "0        Distance    0.102782\n",
      "6    BuildingArea    0.079563\n",
      "7       YearBuilt    0.055683\n",
      "5        Landsize    0.050183\n",
      "8       Lattitude    0.042795\n",
      "9      Longtitude    0.035892\n",
      "10  Propertycount    0.023278\n",
      "4             Car    0.012777\n"
     ]
    }
   ],
   "source": [
    "# Feature importance\n",
    "importance = model.feature_importances_\n",
    "feature_names = X.columns\n",
    "feature_importance = pd.DataFrame({'Feature': feature_names, 'Importance': importance})\n",
    "feature_importance = feature_importance.sort_values('Importance', ascending=False)\n",
    "print(feature_importance)"
   ]
  },
  {
   "cell_type": "code",
   "execution_count": 95,
   "metadata": {},
   "outputs": [
    {
     "name": "stdout",
     "output_type": "stream",
     "text": [
      "Mean Squared Error: 72507418187.31776\n",
      "Best Parameters: {'learning_rate': 0.1, 'max_depth': 5, 'n_estimators': 300}\n"
     ]
    }
   ],
   "source": [
    "from sklearn.model_selection import GridSearchCV\n",
    "\n",
    "\n",
    "# Define the hyperparameter grid\n",
    "param_grid = {\n",
    "    'n_estimators': [100, 200, 300],\n",
    "    'max_depth': [3, 4, 5],\n",
    "    'learning_rate': [0.1, 0.01, 0.001]\n",
    "}\n",
    "\n",
    "\n",
    "\n",
    "# Perform grid search with cross-validation\n",
    "grid_search = GridSearchCV(model, param_grid, scoring='neg_mean_squared_error', cv=5)\n",
    "grid_search.fit(X_train, y_train)\n",
    "\n",
    "# Get the best model and its parameters\n",
    "best_model = grid_search.best_estimator_\n",
    "best_params = grid_search.best_params_\n",
    "\n",
    "# Make predictions on the validation set using the best model\n",
    "y_pred = best_model.predict(X_val)\n",
    "\n",
    "# Evaluate the model using mean squared error (MSE)\n",
    "mse = mean_squared_error(y_val, y_pred)\n",
    "print(f\"Mean Squared Error: {mse}\")\n",
    "\n",
    "print(f\"Best Parameters: {best_params}\")\n"
   ]
  },
  {
   "cell_type": "code",
   "execution_count": 96,
   "metadata": {},
   "outputs": [
    {
     "name": "stdout",
     "output_type": "stream",
     "text": [
      "0.8174599968051802\n"
     ]
    }
   ],
   "source": [
    "r2 = r2_score(y_val, y_pred)\n",
    "\n",
    "print(r2)"
   ]
  },
  {
   "cell_type": "code",
   "execution_count": 99,
   "metadata": {},
   "outputs": [
    {
     "name": "stdout",
     "output_type": "stream",
     "text": [
      "Mean Squared Error: 96252363702.29651\n",
      "R-squared: 0.9182273616148418\n"
     ]
    }
   ],
   "source": [
    "from sklearn.model_selection import cross_val_score\n",
    "from sklearn.metrics import mean_squared_error, r2_score\n",
    "\n",
    "# Perform cross-validation\n",
    "cv_scores = cross_val_score(model, X, y, cv=5, scoring='neg_mean_squared_error')\n",
    "\n",
    "# Calculate mean MSE and R-squared scores\n",
    "mean_mse = -cv_scores.mean()\n",
    "mean_r2 = r2_score(y, model.predict(X))\n",
    "\n",
    "# Print the results\n",
    "print(f\"Mean Squared Error: {mean_mse}\")\n",
    "print(f\"R-squared: {mean_r2}\")\n"
   ]
  }
 ],
 "metadata": {
  "kernelspec": {
   "display_name": "Python 3",
   "language": "python",
   "name": "python3"
  },
  "language_info": {
   "codemirror_mode": {
    "name": "ipython",
    "version": 3
   },
   "file_extension": ".py",
   "mimetype": "text/x-python",
   "name": "python",
   "nbconvert_exporter": "python",
   "pygments_lexer": "ipython3",
   "version": "3.10.9"
  },
  "orig_nbformat": 4
 },
 "nbformat": 4,
 "nbformat_minor": 2
}
